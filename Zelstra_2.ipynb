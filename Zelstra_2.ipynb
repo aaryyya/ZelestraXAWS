{
  "nbformat": 4,
  "nbformat_minor": 0,
  "metadata": {
    "colab": {
      "provenance": [],
      "mount_file_id": "1uzq6WQjneZjLVnk8jIWskE62pxyQrwDg",
      "authorship_tag": "ABX9TyMB33QJ7QCIj/x7mcO/w29k",
      "include_colab_link": true
    },
    "kernelspec": {
      "name": "python3",
      "display_name": "Python 3"
    },
    "language_info": {
      "name": "python"
    }
  },
  "cells": [
    {
      "cell_type": "markdown",
      "metadata": {
        "id": "view-in-github",
        "colab_type": "text"
      },
      "source": [
        "<a href=\"https://colab.research.google.com/github/aaryyya/ZelestraXAWS/blob/main/Zelstra_2.ipynb\" target=\"_parent\"><img src=\"https://colab.research.google.com/assets/colab-badge.svg\" alt=\"Open In Colab\"/></a>"
      ]
    },
    {
      "cell_type": "code",
      "execution_count": 2,
      "metadata": {
        "colab": {
          "base_uri": "https://localhost:8080/"
        },
        "id": "ohA7zpqINQJh",
        "outputId": "6757982d-0014-4179-e34a-7ea06a8e0a1a"
      },
      "outputs": [
        {
          "output_type": "stream",
          "name": "stdout",
          "text": [
            "Train Dataset Info:\n",
            "<class 'pandas.core.frame.DataFrame'>\n",
            "RangeIndex: 20000 entries, 0 to 19999\n",
            "Data columns (total 17 columns):\n",
            " #   Column              Non-Null Count  Dtype  \n",
            "---  ------              --------------  -----  \n",
            " 0   id                  20000 non-null  int64  \n",
            " 1   temperature         18999 non-null  float64\n",
            " 2   irradiance          19013 non-null  float64\n",
            " 3   humidity            20000 non-null  object \n",
            " 4   panel_age           18989 non-null  float64\n",
            " 5   maintenance_count   18973 non-null  float64\n",
            " 6   soiling_ratio       18990 non-null  float64\n",
            " 7   voltage             19007 non-null  float64\n",
            " 8   current             19023 non-null  float64\n",
            " 9   module_temperature  19022 non-null  float64\n",
            " 10  cloud_coverage      18990 non-null  float64\n",
            " 11  wind_speed          20000 non-null  object \n",
            " 12  pressure            20000 non-null  object \n",
            " 13  string_id           20000 non-null  object \n",
            " 14  error_code          14088 non-null  object \n",
            " 15  installation_type   14972 non-null  object \n",
            " 16  efficiency          20000 non-null  float64\n",
            "dtypes: float64(10), int64(1), object(6)\n",
            "memory usage: 2.6+ MB\n",
            "None \n",
            "\n",
            "Missing values in Train set:\n",
            "id                       0\n",
            "temperature           1001\n",
            "irradiance             987\n",
            "humidity                 0\n",
            "panel_age             1011\n",
            "maintenance_count     1027\n",
            "soiling_ratio         1010\n",
            "voltage                993\n",
            "current                977\n",
            "module_temperature     978\n",
            "cloud_coverage        1010\n",
            "wind_speed               0\n",
            "pressure                 0\n",
            "string_id                0\n",
            "error_code            5912\n",
            "installation_type     5028\n",
            "efficiency               0\n",
            "dtype: int64 \n",
            "\n",
            "Test Dataset Info:\n",
            "<class 'pandas.core.frame.DataFrame'>\n",
            "RangeIndex: 12000 entries, 0 to 11999\n",
            "Data columns (total 16 columns):\n",
            " #   Column              Non-Null Count  Dtype  \n",
            "---  ------              --------------  -----  \n",
            " 0   id                  12000 non-null  int64  \n",
            " 1   temperature         11418 non-null  float64\n",
            " 2   irradiance          11385 non-null  float64\n",
            " 3   humidity            12000 non-null  object \n",
            " 4   panel_age           11393 non-null  float64\n",
            " 5   maintenance_count   11391 non-null  float64\n",
            " 6   soiling_ratio       11390 non-null  float64\n",
            " 7   voltage             11453 non-null  float64\n",
            " 8   current             11413 non-null  float64\n",
            " 9   module_temperature  11420 non-null  float64\n",
            " 10  cloud_coverage      11418 non-null  float64\n",
            " 11  wind_speed          12000 non-null  object \n",
            " 12  pressure            12000 non-null  object \n",
            " 13  string_id           12000 non-null  object \n",
            " 14  error_code          8389 non-null   object \n",
            " 15  installation_type   9021 non-null   object \n",
            "dtypes: float64(9), int64(1), object(6)\n",
            "memory usage: 1.5+ MB\n",
            "None \n",
            "\n",
            "Missing values in Test set:\n",
            "id                       0\n",
            "temperature            582\n",
            "irradiance             615\n",
            "humidity                 0\n",
            "panel_age              607\n",
            "maintenance_count      609\n",
            "soiling_ratio          610\n",
            "voltage                547\n",
            "current                587\n",
            "module_temperature     580\n",
            "cloud_coverage         582\n",
            "wind_speed               0\n",
            "pressure                 0\n",
            "string_id                0\n",
            "error_code            3611\n",
            "installation_type     2979\n",
            "dtype: int64 \n",
            "\n"
          ]
        }
      ],
      "source": [
        "import pandas as pd\n",
        "\n",
        "# Load datasets\n",
        "train = pd.read_csv('train.csv')\n",
        "test = pd.read_csv('test.csv')\n",
        "\n",
        "# Display basic info and column types\n",
        "print(\"Train Dataset Info:\")\n",
        "print(train.info(), \"\\n\")\n",
        "\n",
        "\n",
        "print(\"Missing values in Train set:\")\n",
        "print(train.isnull().sum(), \"\\n\")\n",
        "\n",
        "print(\"Test Dataset Info:\")\n",
        "print(test.info(), \"\\n\")\n",
        "\n",
        "print(\"Missing values in Test set:\")\n",
        "print(test.isnull().sum(), \"\\n\")\n",
        "\n",
        "\n",
        "# Count of missing values in each dataset\n",
        "\n",
        "\n"
      ]
    },
    {
      "cell_type": "code",
      "source": [
        "# Object-type numeric columns\n",
        "numeric_like_objects = ['humidity', 'wind_speed', 'pressure']\n",
        "\n",
        "for col in numeric_like_objects:\n",
        "    train[col] = pd.to_numeric(train[col], errors='coerce')\n",
        "    test[col] = pd.to_numeric(test[col], errors='coerce')\n"
      ],
      "metadata": {
        "id": "RpGNxHXdPFtU"
      },
      "execution_count": 3,
      "outputs": []
    },
    {
      "cell_type": "code",
      "source": [
        "# All true numerical features for imputation\n",
        "numerical_cols = [\n",
        "    'temperature', 'irradiance', 'humidity', 'panel_age', 'maintenance_count',\n",
        "    'soiling_ratio', 'voltage', 'current', 'module_temperature',\n",
        "    'cloud_coverage', 'wind_speed', 'pressure'\n",
        "]\n",
        "\n",
        "# Median imputation for train\n",
        "for col in numerical_cols:\n",
        "    train.fillna({col: train[col].median()}, inplace=True)\n",
        "\n",
        "# Median imputation for test\n",
        "for col in numerical_cols:\n",
        "    test.fillna({col: test[col].median()}, inplace=True)\n",
        "\n",
        "\n"
      ],
      "metadata": {
        "id": "SDWl-3vGPVcM"
      },
      "execution_count": 4,
      "outputs": []
    },
    {
      "cell_type": "code",
      "source": [
        "categorical_cols = ['string_id', 'error_code', 'installation_type']\n",
        "\n",
        "# Mode imputation for train\n",
        "for col in categorical_cols:\n",
        "    train.fillna({col: train[col].mode()[0]}, inplace=True)\n",
        "\n",
        "# Mode imputation for test\n",
        "for col in categorical_cols:\n",
        "    test.fillna({col: test[col].mode()[0]}, inplace=True)\n"
      ],
      "metadata": {
        "id": "WyP36nLvQ-I4"
      },
      "execution_count": 5,
      "outputs": []
    },
    {
      "cell_type": "code",
      "source": [
        "print(\"Train missing values after imputation:\\n\", train.isnull().sum())\n",
        "print(\"\\nTest missing values after imputation:\\n\", test.isnull().sum())\n"
      ],
      "metadata": {
        "colab": {
          "base_uri": "https://localhost:8080/"
        },
        "id": "jc6tOi80SNKd",
        "outputId": "caa7d24d-1054-402e-c06c-d44a9562a214"
      },
      "execution_count": 6,
      "outputs": [
        {
          "output_type": "stream",
          "name": "stdout",
          "text": [
            "Train missing values after imputation:\n",
            " id                    0\n",
            "temperature           0\n",
            "irradiance            0\n",
            "humidity              0\n",
            "panel_age             0\n",
            "maintenance_count     0\n",
            "soiling_ratio         0\n",
            "voltage               0\n",
            "current               0\n",
            "module_temperature    0\n",
            "cloud_coverage        0\n",
            "wind_speed            0\n",
            "pressure              0\n",
            "string_id             0\n",
            "error_code            0\n",
            "installation_type     0\n",
            "efficiency            0\n",
            "dtype: int64\n",
            "\n",
            "Test missing values after imputation:\n",
            " id                    0\n",
            "temperature           0\n",
            "irradiance            0\n",
            "humidity              0\n",
            "panel_age             0\n",
            "maintenance_count     0\n",
            "soiling_ratio         0\n",
            "voltage               0\n",
            "current               0\n",
            "module_temperature    0\n",
            "cloud_coverage        0\n",
            "wind_speed            0\n",
            "pressure              0\n",
            "string_id             0\n",
            "error_code            0\n",
            "installation_type     0\n",
            "dtype: int64\n"
          ]
        }
      ]
    },
    {
      "cell_type": "code",
      "source": [
        "from sklearn.preprocessing import LabelEncoder\n",
        "\n",
        "cat_cols = ['string_id', 'error_code', 'installation_type']\n",
        "encoders = {}\n",
        "\n",
        "# Fit on train, apply on both\n",
        "for col in cat_cols:\n",
        "    le = LabelEncoder()\n",
        "    train[col] = le.fit_transform(train[col])\n",
        "    test[col] = le.transform(test[col])\n",
        "    encoders[col] = le  # save encoders if needed for inverse mapping later\n"
      ],
      "metadata": {
        "id": "urQ5OitoTEJJ"
      },
      "execution_count": 7,
      "outputs": []
    },
    {
      "cell_type": "code",
      "source": [
        "from sklearn.preprocessing import StandardScaler\n",
        "\n",
        "# Features to scale\n",
        "features_to_scale = train.columns.drop(['id', 'efficiency'])\n",
        "\n",
        "scaler = StandardScaler()\n",
        "\n",
        "train[features_to_scale] = scaler.fit_transform(train[features_to_scale])\n",
        "test[features_to_scale] = scaler.transform(test[features_to_scale])\n"
      ],
      "metadata": {
        "id": "YjF2yIh3TIyi"
      },
      "execution_count": 8,
      "outputs": []
    },
    {
      "cell_type": "code",
      "source": [
        "print(\"Train shape:\", train.shape)\n",
        "print(\"Test shape:\", test.shape)\n",
        "print(\"Train columns:\", train.columns.tolist())\n",
        "# Display basic info and column types\n",
        "print(\"Train Dataset Info:\")\n",
        "print(train.info(), \"\\n\")\n",
        "\n",
        "\n",
        "print(\"Missing values in Train set:\")\n",
        "print(train.isnull().sum(), \"\\n\")\n",
        "\n",
        "print(\"Test Dataset Info:\")\n",
        "print(test.info(), \"\\n\")\n",
        "\n",
        "print(\"Missing values in Test set:\")\n",
        "print(test.isnull().sum(), \"\\n\")\n"
      ],
      "metadata": {
        "colab": {
          "base_uri": "https://localhost:8080/"
        },
        "id": "YLArmScqTK8s",
        "outputId": "7978041e-793c-4476-fa8d-9ea3bb7fe38d"
      },
      "execution_count": 9,
      "outputs": [
        {
          "output_type": "stream",
          "name": "stdout",
          "text": [
            "Train shape: (20000, 17)\n",
            "Test shape: (12000, 16)\n",
            "Train columns: ['id', 'temperature', 'irradiance', 'humidity', 'panel_age', 'maintenance_count', 'soiling_ratio', 'voltage', 'current', 'module_temperature', 'cloud_coverage', 'wind_speed', 'pressure', 'string_id', 'error_code', 'installation_type', 'efficiency']\n",
            "Train Dataset Info:\n",
            "<class 'pandas.core.frame.DataFrame'>\n",
            "RangeIndex: 20000 entries, 0 to 19999\n",
            "Data columns (total 17 columns):\n",
            " #   Column              Non-Null Count  Dtype  \n",
            "---  ------              --------------  -----  \n",
            " 0   id                  20000 non-null  int64  \n",
            " 1   temperature         20000 non-null  float64\n",
            " 2   irradiance          20000 non-null  float64\n",
            " 3   humidity            20000 non-null  float64\n",
            " 4   panel_age           20000 non-null  float64\n",
            " 5   maintenance_count   20000 non-null  float64\n",
            " 6   soiling_ratio       20000 non-null  float64\n",
            " 7   voltage             20000 non-null  float64\n",
            " 8   current             20000 non-null  float64\n",
            " 9   module_temperature  20000 non-null  float64\n",
            " 10  cloud_coverage      20000 non-null  float64\n",
            " 11  wind_speed          20000 non-null  float64\n",
            " 12  pressure            20000 non-null  float64\n",
            " 13  string_id           20000 non-null  float64\n",
            " 14  error_code          20000 non-null  float64\n",
            " 15  installation_type   20000 non-null  float64\n",
            " 16  efficiency          20000 non-null  float64\n",
            "dtypes: float64(16), int64(1)\n",
            "memory usage: 2.6 MB\n",
            "None \n",
            "\n",
            "Missing values in Train set:\n",
            "id                    0\n",
            "temperature           0\n",
            "irradiance            0\n",
            "humidity              0\n",
            "panel_age             0\n",
            "maintenance_count     0\n",
            "soiling_ratio         0\n",
            "voltage               0\n",
            "current               0\n",
            "module_temperature    0\n",
            "cloud_coverage        0\n",
            "wind_speed            0\n",
            "pressure              0\n",
            "string_id             0\n",
            "error_code            0\n",
            "installation_type     0\n",
            "efficiency            0\n",
            "dtype: int64 \n",
            "\n",
            "Test Dataset Info:\n",
            "<class 'pandas.core.frame.DataFrame'>\n",
            "RangeIndex: 12000 entries, 0 to 11999\n",
            "Data columns (total 16 columns):\n",
            " #   Column              Non-Null Count  Dtype  \n",
            "---  ------              --------------  -----  \n",
            " 0   id                  12000 non-null  int64  \n",
            " 1   temperature         12000 non-null  float64\n",
            " 2   irradiance          12000 non-null  float64\n",
            " 3   humidity            12000 non-null  float64\n",
            " 4   panel_age           12000 non-null  float64\n",
            " 5   maintenance_count   12000 non-null  float64\n",
            " 6   soiling_ratio       12000 non-null  float64\n",
            " 7   voltage             12000 non-null  float64\n",
            " 8   current             12000 non-null  float64\n",
            " 9   module_temperature  12000 non-null  float64\n",
            " 10  cloud_coverage      12000 non-null  float64\n",
            " 11  wind_speed          12000 non-null  float64\n",
            " 12  pressure            12000 non-null  float64\n",
            " 13  string_id           12000 non-null  float64\n",
            " 14  error_code          12000 non-null  float64\n",
            " 15  installation_type   12000 non-null  float64\n",
            "dtypes: float64(15), int64(1)\n",
            "memory usage: 1.5 MB\n",
            "None \n",
            "\n",
            "Missing values in Test set:\n",
            "id                    0\n",
            "temperature           0\n",
            "irradiance            0\n",
            "humidity              0\n",
            "panel_age             0\n",
            "maintenance_count     0\n",
            "soiling_ratio         0\n",
            "voltage               0\n",
            "current               0\n",
            "module_temperature    0\n",
            "cloud_coverage        0\n",
            "wind_speed            0\n",
            "pressure              0\n",
            "string_id             0\n",
            "error_code            0\n",
            "installation_type     0\n",
            "dtype: int64 \n",
            "\n"
          ]
        }
      ]
    },
    {
      "cell_type": "code",
      "source": [],
      "metadata": {
        "id": "xrkIj-kVpuKa"
      },
      "execution_count": 9,
      "outputs": []
    },
    {
      "cell_type": "code",
      "source": [
        "import seaborn as sns\n",
        "import matplotlib.pyplot as plt\n",
        "\n",
        "# Compute correlation matrix\n",
        "cor_matrix = train.drop(columns=['id']).corr()\n",
        "\n",
        "# Target correlation\n",
        "target_corr = cor_matrix['efficiency'].drop('efficiency').sort_values(ascending=False)\n",
        "\n",
        "# Plot top correlations\n",
        "plt.figure(figsize=(10, 6))\n",
        "sns.barplot(x=target_corr.values, y=target_corr.index)\n",
        "plt.title('Feature Correlation with Efficiency')\n",
        "plt.xlabel('Pearson Correlation')\n",
        "plt.show()\n",
        "\n",
        "\n",
        "\n"
      ],
      "metadata": {
        "colab": {
          "base_uri": "https://localhost:8080/",
          "height": 453
        },
        "id": "VBObn1T_TmTQ",
        "outputId": "156e7add-d9cb-4103-842f-cbc17ebf2e43"
      },
      "execution_count": 10,
      "outputs": [
        {
          "output_type": "display_data",
          "data": {
            "text/plain": [
              "<Figure size 1000x600 with 1 Axes>"
            ],
            "image/png": "[encoded data removed]"
          },
          "metadata": {}
        }
      ]
    },
    {
      "cell_type": "code",
      "source": [
        "from sklearn.feature_selection import VarianceThreshold\n",
        "\n",
        "# Remove near-constant features\n",
        "selector = VarianceThreshold(threshold=0.01)\n",
        "X = train.drop(columns=['id', 'efficiency'])\n",
        "X_high_var = selector.fit_transform(X)\n",
        "selected_columns = X.columns[selector.get_support()]\n"
      ],
      "metadata": {
        "id": "Z2XhWCyQVfIn"
      },
      "execution_count": 11,
      "outputs": []
    },
    {
      "cell_type": "code",
      "source": [
        "from sklearn.ensemble import RandomForestRegressor\n",
        "\n",
        "X = train[selected_columns]\n",
        "y = train['efficiency']\n",
        "\n",
        "rf = RandomForestRegressor(n_estimators=100, random_state=42)\n",
        "rf.fit(X, y)\n",
        "\n",
        "importances = pd.Series(rf.feature_importances_, index=X.columns)\n",
        "importances = importances.sort_values(ascending=False)\n",
        "\n",
        "# Plot top features\n",
        "plt.figure(figsize=(10, 6))\n",
        "importances.plot(kind='bar')\n",
        "plt.title(\"RandomForest Feature Importances\")\n",
        "plt.show()\n"
      ],
      "metadata": {
        "colab": {
          "base_uri": "https://localhost:8080/",
          "height": 633
        },
        "id": "vFVLWCPGVs06",
        "outputId": "770bf3f2-2e6a-4e0d-e69c-089f5a75d6c7"
      },
      "execution_count": 12,
      "outputs": [
        {
          "output_type": "display_data",
          "data": {
            "text/plain": [
              "<Figure size 1000x600 with 1 Axes>"
            ],
            "image/png": "[encoded data removed]"
          },
          "metadata": {}
        }
      ]
    },
    {
      "cell_type": "code",
      "source": [
        "from sklearn.feature_selection import RFE\n",
        "from sklearn.linear_model import LinearRegression\n",
        "\n",
        "estimator = LinearRegression()\n",
        "selector = RFE(estimator, n_features_to_select=10, step=1)\n",
        "selector.fit(X, y)\n",
        "\n",
        "# Final selected features\n",
        "rfe_selected = X.columns[selector.support_]\n",
        "print(rfe_selected)"
      ],
      "metadata": {
        "colab": {
          "base_uri": "https://localhost:8080/"
        },
        "id": "iqYeNMl-Vwdq",
        "outputId": "d899ee13-294f-4ff0-c7ae-126ef17ed726"
      },
      "execution_count": 37,
      "outputs": [
        {
          "output_type": "stream",
          "name": "stdout",
          "text": [
            "Index(['temperature', 'humidity', 'panel_age', 'soiling_ratio', 'irradiance',\n",
            "       'voltage', 'current', 'module_temperature', 'maintenance_count'],\n",
            "      dtype='object')\n"
          ]
        },
        {
          "output_type": "stream",
          "name": "stderr",
          "text": [
            "/usr/local/lib/python3.11/dist-packages/sklearn/feature_selection/_rfe.py:300: UserWarning: Found n_features_to_select=10 > n_features=9. There will be no feature selection and all features will be kept.\n",
            "  warnings.warn(\n"
          ]
        }
      ]
    },
    {
      "cell_type": "code",
      "source": [
        "# Combine feature sets\n",
        "features_corr = set(target_corr[abs(target_corr) > 0.1].index)\n",
        "features_rf = set(importances.head(12).index)\n",
        "features_rfe = set(rfe_selected)\n",
        "\n",
        "# Final selected features (high-confidence)\n",
        "final_features = list(features_corr & features_rf & features_rfe)\n",
        "print(\"Selected Features:\", final_features)\n"
      ],
      "metadata": {
        "colab": {
          "base_uri": "https://localhost:8080/"
        },
        "id": "-v5KMAwVWBRv",
        "outputId": "4b354652-1ea3-4b39-d004-48c877f08669"
      },
      "execution_count": 14,
      "outputs": [
        {
          "output_type": "stream",
          "name": "stdout",
          "text": [
            "Selected Features: ['current', 'irradiance', 'panel_age', 'soiling_ratio', 'voltage']\n"
          ]
        }
      ]
    },
    {
      "cell_type": "code",
      "source": [
        "final_features = [\n",
        "    'temperature',\n",
        "    'humidity',\n",
        "    'panel_age',\n",
        "    'soiling_ratio',\n",
        "    'irradiance',\n",
        "    'voltage',\n",
        "    'current',\n",
        "    'module_temperature',\n",
        "    'maintenance_count',\n",
        "    'installation_type',\n",
        "    'error_code',\n",
        "    'pressure'\n",
        "]\n",
        "\n",
        "X_train = train[final_features]\n",
        "y_train = train['efficiency']\n",
        "\n",
        "X_test = test[final_features]\n"
      ],
      "metadata": {
        "id": "jqOtjmbbWF3x"
      },
      "execution_count": 38,
      "outputs": []
    },
    {
      "cell_type": "code",
      "source": [
        "from sklearn.model_selection import train_test_split\n",
        "\n",
        "X_train = train[final_features]\n",
        "y_train = train['efficiency']\n",
        "\n",
        "# 80/20 split\n",
        "X_tr, X_val, y_tr, y_val = train_test_split(X_train, y_train, test_size=0.2, random_state=42)\n"
      ],
      "metadata": {
        "id": "h-uAXns6es6T"
      },
      "execution_count": 39,
      "outputs": []
    },
    {
      "cell_type": "code",
      "source": [
        "from sklearn.metrics import mean_squared_error\n",
        "import numpy as np\n",
        "\n",
        "def custom_score(y_true, y_pred):\n",
        "    mse = mean_squared_error(y_true, y_pred)\n",
        "    score = 100 * (1 - np.sqrt(mse))\n",
        "    return score\n",
        "\n"
      ],
      "metadata": {
        "id": "NgL9vYrge63p"
      },
      "execution_count": 40,
      "outputs": []
    },
    {
      "cell_type": "code",
      "source": [
        "from sklearn.linear_model import LinearRegression\n",
        "\n",
        "lr = LinearRegression()\n",
        "lr.fit(X_tr, y_tr)\n",
        "lr_pred = lr.predict(X_val)\n",
        "print(\"Linear Regression Score:\", custom_score(y_val, lr_pred))\n"
      ],
      "metadata": {
        "colab": {
          "base_uri": "https://localhost:8080/"
        },
        "id": "TvAJjQ-vfD1u",
        "outputId": "e382e860-d591-4d68-ee16-342754c3bdf5"
      },
      "execution_count": 18,
      "outputs": [
        {
          "output_type": "stream",
          "name": "stdout",
          "text": [
            "Linear Regression Score: 89.18227724108854\n"
          ]
        }
      ]
    },
    {
      "cell_type": "code",
      "source": [
        "from sklearn.tree import DecisionTreeRegressor\n",
        "\n",
        "dt = DecisionTreeRegressor(max_depth=10, random_state=42)\n",
        "dt.fit(X_tr, y_tr)\n",
        "dt_pred = dt.predict(X_val)\n",
        "print(\"Decision Tree Score:\", custom_score(y_val, dt_pred))\n"
      ],
      "metadata": {
        "colab": {
          "base_uri": "https://localhost:8080/"
        },
        "id": "CZp994HRfMQr",
        "outputId": "3858f101-fcfe-4b7f-9750-e7f91b366aad"
      },
      "execution_count": 19,
      "outputs": [
        {
          "output_type": "stream",
          "name": "stdout",
          "text": [
            "Decision Tree Score: 87.47376818508717\n"
          ]
        }
      ]
    },
    {
      "cell_type": "code",
      "source": [
        "from sklearn.ensemble import RandomForestRegressor\n",
        "\n",
        "rf = RandomForestRegressor(n_estimators=100, max_depth=12, random_state=42)\n",
        "rf.fit(X_tr, y_tr)\n",
        "rf_pred = rf.predict(X_val)\n",
        "print(\"Random Forest Score:\", custom_score(y_val, rf_pred))\n"
      ],
      "metadata": {
        "colab": {
          "base_uri": "https://localhost:8080/"
        },
        "id": "lGjTusctfNu4",
        "outputId": "858393db-8566-42d5-dff7-7ab8c3d38dc6"
      },
      "execution_count": 29,
      "outputs": [
        {
          "output_type": "stream",
          "name": "stdout",
          "text": [
            "Random Forest Score: 89.14292928064658\n"
          ]
        }
      ]
    },
    {
      "cell_type": "code",
      "source": [
        "from xgboost import XGBRegressor\n",
        "\n",
        "xgb = XGBRegressor(n_estimators=100, max_depth=8, learning_rate=0.1, random_state=42)\n",
        "xgb.fit(X_tr, y_tr)\n",
        "xgb_pred = xgb.predict(X_val)\n",
        "print(\"XGBoost Score:\", custom_score(y_val, xgb_pred))\n",
        "from xgboost import XGBRegressor\n",
        "\n",
        "param_grid = [\n",
        "    {'n_estimators': 100, 'max_depth': 6, 'learning_rate': 0.1, 'subsample': 0.8, 'colsample_bytree': 0.8},\n",
        "    {'n_estimators': 150, 'max_depth': 8, 'learning_rate': 0.05, 'subsample': 0.9, 'colsample_bytree': 0.8},\n",
        "    {'n_estimators': 200, 'max_depth': 10, 'learning_rate': 0.03, 'subsample': 1.0, 'colsample_bytree': 0.7},\n",
        "    {'n_estimators': 100, 'max_depth': 12, 'learning_rate': 0.07, 'subsample': 0.7, 'colsample_bytree': 1.0}\n",
        "]\n",
        "\n",
        "best_score = -np.inf\n",
        "best_model = None\n",
        "\n",
        "for i, params in enumerate(param_grid):\n",
        "    model = XGBRegressor(**params, random_state=42)\n",
        "    model.fit(X_tr, y_tr)\n",
        "    preds = model.predict(X_val)\n",
        "    score = custom_score(y_val, preds)\n",
        "    print(f\"Model {i+1} Score: {score:.4f}\")\n",
        "\n",
        "    if score > best_score:\n",
        "        best_score = score\n",
        "        best_model = model\n",
        "test_features = test[final_features]\n",
        "test_preds = best_model.predict(test_features)\n",
        "submission = pd.DataFrame({\n",
        "    'id': test['id'],\n",
        "    'efficiency': test_preds\n",
        "})\n",
        "\n",
        "submission.to_csv('submission.csv', index=False)\n",
        "print(submission.head())\n",
        "print(submission.shape)\n"
      ],
      "metadata": {
        "colab": {
          "base_uri": "https://localhost:8080/"
        },
        "id": "T-QexBNYfTYq",
        "outputId": "8e35e862-4dac-4cf4-be7a-4f8176ad36cf"
      },
      "execution_count": 41,
      "outputs": [
        {
          "output_type": "stream",
          "name": "stdout",
          "text": [
            "XGBoost Score: 89.04146869231069\n",
            "Model 1 Score: 89.2343\n",
            "Model 2 Score: 89.2335\n",
            "Model 3 Score: 89.1358\n",
            "Model 4 Score: 88.9537\n",
            "   id  efficiency\n",
            "0   0    0.386846\n",
            "1   1    0.562250\n",
            "2   2    0.540428\n",
            "3   3    0.438544\n",
            "4   4    0.477613\n",
            "(12000, 2)\n"
          ]
        }
      ]
    },
    {
      "cell_type": "code",
      "source": [
        "from sklearn.ensemble import RandomForestRegressor\n",
        "\n",
        "param_grid_rf = [\n",
        "    {'n_estimators': 100, 'max_depth': 10, 'min_samples_split': 2, 'min_samples_leaf': 1},\n",
        "    {'n_estimators': 150, 'max_depth': 15, 'min_samples_split': 4, 'min_samples_leaf': 2},\n",
        "    {'n_estimators': 200, 'max_depth': 20, 'min_samples_split': 5, 'min_samples_leaf': 3},\n",
        "    {'n_estimators': 250, 'max_depth': None, 'min_samples_split': 3, 'min_samples_leaf': 1}\n",
        "]\n",
        "\n",
        "best_rf_score = -np.inf\n",
        "best_rf_model = None\n",
        "\n",
        "for i, params in enumerate(param_grid_rf):\n",
        "    rf_model = RandomForestRegressor(**params, random_state=42, n_jobs=-1)\n",
        "    rf_model.fit(X_tr, y_tr)\n",
        "    preds = rf_model.predict(X_val)\n",
        "    score = custom_score(y_val, preds)\n",
        "    print(f\"RandomForest Model {i+1} Score: {score:.4f}\")\n",
        "\n",
        "    if score > best_rf_score:\n",
        "        best_rf_score = score\n",
        "        best_rf_model = rf_model\n",
        "rf_test_preds = best_rf_model.predict(test[final_features])\n",
        "rf_submission = pd.DataFrame({\n",
        "    'id': test['id'],\n",
        "    'efficiency': rf_test_preds\n",
        "})\n",
        "\n",
        "rf_submission.to_csv('rf_submission.csv', index=False)\n"
      ],
      "metadata": {
        "colab": {
          "base_uri": "https://localhost:8080/"
        },
        "id": "xN-SRatqqOgY",
        "outputId": "b1ff1784-d003-459f-ae5d-3d0993014ff5"
      },
      "execution_count": 22,
      "outputs": [
        {
          "output_type": "stream",
          "name": "stdout",
          "text": [
            "RandomForest Model 1 Score: 89.1913\n",
            "RandomForest Model 2 Score: 89.1595\n",
            "RandomForest Model 3 Score: 89.2160\n",
            "RandomForest Model 4 Score: 89.0980\n"
          ]
        }
      ]
    },
    {
      "cell_type": "code",
      "source": [
        "from xgboost import XGBRegressor\n",
        "\n",
        "param_grid = [\n",
        "    {'n_estimators': 200, 'max_depth': 8, 'learning_rate': 0.03, 'subsample': 0.9, 'colsample_bytree': 0.8, 'gamma': 0.1, 'reg_alpha': 0.5, 'reg_lambda': 1.0},\n",
        "    {'n_estimators': 300, 'max_depth': 10, 'learning_rate': 0.02, 'subsample': 0.85, 'colsample_bytree': 0.75, 'gamma': 0.2, 'reg_alpha': 1.0, 'reg_lambda': 2.0},\n",
        "    {'n_estimators': 250, 'max_depth': 6, 'learning_rate': 0.05, 'subsample': 1.0, 'colsample_bytree': 0.7, 'gamma': 0.05, 'reg_alpha': 0.1, 'reg_lambda': 0.5}\n",
        "]\n",
        "best_score = -np.inf\n",
        "best_model = None\n",
        "\n",
        "for i, params in enumerate(param_grid):\n",
        "    model = XGBRegressor(**params, random_state=42)\n",
        "    model.fit(X_tr[final_features], y_tr)\n",
        "    preds = model.predict(X_val[final_features])\n",
        "    score = custom_score(y_val, preds)\n",
        "    print(f\"Model {i+1} Score: {score:.4f}\")\n",
        "\n",
        "    if score > best_score:\n",
        "        best_score = score\n",
        "        best_model = model\n",
        "test_features = test[final_features]\n",
        "test_preds = best_model.predict(test_features)\n",
        "\n",
        "submission = pd.DataFrame({\n",
        "    'id': test['id'],\n",
        "    'efficiency': test_preds\n",
        "})\n",
        "submission.to_csv('xgb1_submission.csv', index=False)\n",
        "\n",
        "print(\"🔍 Final Submission Preview:\")\n",
        "print(submission.head())\n",
        "print(\"📝 Submission Shape:\", submission.shape)\n"
      ],
      "metadata": {
        "colab": {
          "base_uri": "https://localhost:8080/"
        },
        "id": "f5QMHIiSqu01",
        "outputId": "e195ac53-fb5f-443c-9312-84d9bb9066a2"
      },
      "execution_count": 42,
      "outputs": [
        {
          "output_type": "stream",
          "name": "stdout",
          "text": [
            "Model 1 Score: 89.3184\n",
            "Model 2 Score: 89.3054\n",
            "Model 3 Score: 89.3183\n",
            "🔍 Final Submission Preview:\n",
            "   id  efficiency\n",
            "0   0    0.390584\n",
            "1   1    0.553708\n",
            "2   2    0.524172\n",
            "3   3    0.452074\n",
            "4   4    0.485919\n",
            "📝 Submission Shape: (12000, 2)\n"
          ]
        }
      ]
    },
    {
      "cell_type": "code",
      "source": [
        "from xgboost import XGBRegressor\n",
        "from sklearn.model_selection import train_test_split\n",
        "from sklearn.metrics import mean_squared_error\n",
        "import numpy as np\n",
        "import pandas as pd\n",
        "\n",
        "# Define the custom score function\n",
        "def custom_score(actual, predicted):\n",
        "    return 100 * (1 - np.sqrt(mean_squared_error(actual, predicted)))\n",
        "\n",
        "# Assuming train and test are already preprocessed and available\n",
        "# Define final features as per your request\n",
        "final_features = [\n",
        "    'temperature', 'humidity', 'panel_age', 'soiling_ratio',\n",
        "    'irradiance', 'voltage', 'current', 'module_temperature', 'maintenance_count'\n",
        "]\n",
        "\n",
        "# Split the training data into train/validation sets\n",
        "X = train[final_features]\n",
        "y = train['efficiency']\n",
        "X_tr, X_val, y_tr, y_val = train_test_split(X, y, test_size=0.2, random_state=42)\n",
        "\n",
        "# Enhanced hyperparameter grid\n",
        "param_grid = [\n",
        "    {'n_estimators': 500, 'max_depth': 8, 'learning_rate': 0.01, 'subsample': 0.9, 'colsample_bytree': 0.8, 'gamma': 0.2, 'reg_alpha': 0.8, 'reg_lambda': 1.2},\n",
        "    {'n_estimators': 400, 'max_depth': 10, 'learning_rate': 0.015, 'subsample': 0.95, 'colsample_bytree': 0.7, 'gamma': 0.3, 'reg_alpha': 1.2, 'reg_lambda': 2.5},\n",
        "    {'n_estimators': 600, 'max_depth': 9, 'learning_rate': 0.012, 'subsample': 0.85, 'colsample_bytree': 0.75, 'gamma': 0.1, 'reg_alpha': 0.3, 'reg_lambda': 1.5}\n",
        "]\n",
        "\n",
        "# Model selection loop\n",
        "best_score = -np.inf\n",
        "best_model = None\n",
        "\n",
        "for i, params in enumerate(param_grid):\n",
        "    model = XGBRegressor(**params, random_state=42)\n",
        "    model.fit(X_tr, y_tr)\n",
        "    preds = model.predict(X_val)\n",
        "    score = custom_score(y_val, preds)\n",
        "    print(f\"Model {i+1} Score: {score:.4f}\")\n",
        "\n",
        "    if score > best_score:\n",
        "        best_score = score\n",
        "        best_model = model\n",
        "\n",
        "# Final prediction and submission\n",
        "test_preds = best_model.predict(test[final_features])\n",
        "submission = pd.DataFrame({\n",
        "    'id': test['id'],\n",
        "    'efficiency': test_preds\n",
        "})\n",
        "submission.to_csv(\"submission.csv\", index=False)\n"
      ],
      "metadata": {
        "colab": {
          "base_uri": "https://localhost:8080/"
        },
        "id": "CU6ECzDkvfEL",
        "outputId": "f1b3f68a-c0eb-4a48-c398-5c68a659c620"
      },
      "execution_count": 43,
      "outputs": [
        {
          "output_type": "stream",
          "name": "stdout",
          "text": [
            "Model 1 Score: 89.3132\n",
            "Model 2 Score: 89.2737\n",
            "Model 3 Score: 89.3400\n"
          ]
        }
      ]
    }
  ]
}